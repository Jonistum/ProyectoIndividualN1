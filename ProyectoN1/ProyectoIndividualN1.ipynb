{
 "cells": [
  {
   "cell_type": "markdown",
   "metadata": {},
   "source": [
    "# Importamos librerias \n"
   ]
  },
  {
   "cell_type": "code",
   "execution_count": 346,
   "metadata": {},
   "outputs": [],
   "source": [
    "import numpy as np\n",
    "import pandas as pd\n",
    "import matplotlib.pyplot as plt\n",
    "import seaborn as sns\n",
    "from pandas import json_normalize\n"
   ]
  },
  {
   "cell_type": "markdown",
   "metadata": {},
   "source": [
    "# Carga de los datasets\n"
   ]
  },
  {
   "cell_type": "code",
   "execution_count": null,
   "metadata": {},
   "outputs": [],
   "source": [
    "movies_df = pd.read_csv(r\"C:\\Users\\Jonatan Sivisstum\\Downloads\\Movies-20241217T205003Z-001\\Movies\\movies_dataset.csv\")\n",
    "credits_df = pd.read_csv(r\"C:\\Users\\Jonatan Sivisstum\\Downloads\\Movies-20241217T205003Z-001\\Movies\\credits.csv\")\n"
   ]
  },
  {
   "cell_type": "code",
   "execution_count": null,
   "metadata": {},
   "outputs": [],
   "source": [
    "movies_df.info()"
   ]
  },
  {
   "cell_type": "markdown",
   "metadata": {},
   "source": [
    "# Eliminamos las columnas que no serán utilizadas"
   ]
  },
  {
   "cell_type": "code",
   "execution_count": 349,
   "metadata": {},
   "outputs": [],
   "source": [
    "# Columnas a eliminar\n",
    "columnas_a_eliminar = ['video', 'imdb_id', 'adult', 'original_title', 'poster_path', 'homepage']\n",
    "\n",
    "# Eliminamos las columnas del DataFrame\n",
    "movies_df.drop(columnas_a_eliminar, axis=1, inplace=True)"
   ]
  },
  {
   "cell_type": "markdown",
   "metadata": {},
   "source": [
    "# RELLENAMOS LOS VALORES NULOS POR EL NUMERO 0."
   ]
  },
  {
   "cell_type": "code",
   "execution_count": 350,
   "metadata": {},
   "outputs": [],
   "source": [
    "# Rellenamos los valores nulos de las columnas 'revenue' y 'budget' con 0\n",
    "movies_df[['revenue', 'budget']] = movies_df[['revenue', 'budget']].fillna(0)\n"
   ]
  },
  {
   "cell_type": "markdown",
   "metadata": {},
   "source": [
    " # ELIMINAMOS LOS VALORES NULOS DEL CAMPO \"RELEASE\"."
   ]
  },
  {
   "cell_type": "code",
   "execution_count": 351,
   "metadata": {},
   "outputs": [],
   "source": [
    "# Eliminamos las filas donde 'release_date' es nulo\n",
    "movies_df.dropna(subset=['release_date'], inplace=True)"
   ]
  },
  {
   "cell_type": "markdown",
   "metadata": {},
   "source": [
    "# Pasamos la columna de fechas a formato AAAA-mm-dd"
   ]
  },
  {
   "cell_type": "markdown",
   "metadata": {},
   "source": [
    "Convertimos la columna 'release_date' a formato datetime"
   ]
  },
  {
   "cell_type": "code",
   "execution_count": 352,
   "metadata": {},
   "outputs": [],
   "source": [
    "movies_df['release_date'] = pd.to_datetime(movies_df['release_date'], errors='coerce')"
   ]
  },
  {
   "cell_type": "markdown",
   "metadata": {},
   "source": [
    "# Creamos la columna \"release_year\" donde indica el año de la fecha de estreno."
   ]
  },
  {
   "cell_type": "code",
   "execution_count": 353,
   "metadata": {},
   "outputs": [],
   "source": [
    "movies_df['release_year'] = movies_df['release_date'].dt.year"
   ]
  },
  {
   "cell_type": "code",
   "execution_count": 415,
   "metadata": {},
   "outputs": [],
   "source": [
    "# Convertir los valores de 'release_year' a enteros y rellenar valores nulos con 0\n",
    "movies_df['release_year'] = movies_df['release_year'].fillna(0).astype(int)\n"
   ]
  },
  {
   "cell_type": "code",
   "execution_count": 411,
   "metadata": {},
   "outputs": [],
   "source": [
    "movies_df.dropna(subset=['release_date'], inplace=True)\n"
   ]
  },
  {
   "cell_type": "markdown",
   "metadata": {},
   "source": [
    "# Creamos la columna con retorno de inversión, llamada \"return\""
   ]
  },
  {
   "cell_type": "markdown",
   "metadata": {},
   "source": [
    "cuando no hay datos disponibles,tomará el valor 0."
   ]
  },
  {
   "cell_type": "code",
   "execution_count": 354,
   "metadata": {},
   "outputs": [],
   "source": [
    "# Convertimos las columnas 'revenue' y 'budget' a numéricas, manejando errores\n",
    "movies_df['revenue'] = pd.to_numeric(movies_df['revenue'], errors='coerce')\n",
    "movies_df['budget'] = pd.to_numeric(movies_df['budget'], errors='coerce')\n",
    "\n",
    "# Creamos la columna 'return' calculando el ROI, manejando divisiones por cero\n",
    "movies_df['return'] = np.where(movies_df['budget'] > 0, movies_df['revenue'] / movies_df['budget'], 0)"
   ]
  },
  {
   "cell_type": "code",
   "execution_count": null,
   "metadata": {},
   "outputs": [],
   "source": [
    "movies_df['budget'].fillna(0, inplace=True)\n"
   ]
  },
  {
   "cell_type": "markdown",
   "metadata": {},
   "source": [
    "# Eliminamos columnas irrelevantes\n"
   ]
  },
  {
   "cell_type": "code",
   "execution_count": 355,
   "metadata": {},
   "outputs": [],
   "source": [
    "movies_df = movies_df.drop('tagline', axis=1)"
   ]
  },
  {
   "cell_type": "code",
   "execution_count": null,
   "metadata": {},
   "outputs": [],
   "source": [
    "datos_nulos = movies_df.isnull().sum()\n",
    "print(datos_nulos)"
   ]
  },
  {
   "cell_type": "code",
   "execution_count": null,
   "metadata": {},
   "outputs": [],
   "source": [
    "movies_df.describe()"
   ]
  },
  {
   "cell_type": "markdown",
   "metadata": {},
   "source": [
    "Eliminamos filas repetidas del dataset."
   ]
  },
  {
   "cell_type": "code",
   "execution_count": 358,
   "metadata": {},
   "outputs": [],
   "source": [
    "movies_df.drop_duplicates(inplace=True)"
   ]
  },
  {
   "cell_type": "markdown",
   "metadata": {},
   "source": [
    "# DESANIDAMOS LAS COLUMNAS."
   ]
  },
  {
   "cell_type": "markdown",
   "metadata": {},
   "source": [
    "Desanidamos la columna \"belongs_to_collection\""
   ]
  },
  {
   "cell_type": "code",
   "execution_count": null,
   "metadata": {},
   "outputs": [],
   "source": [
    "# Función para procesar cada celda de manera segura\n",
    "def safe_json_load(cell):\n",
    "    try:\n",
    "        # Reemplazar comillas simples por dobles si es una cadena\n",
    "        if isinstance(cell, str):\n",
    "            cell = cell.replace(\"'\", '\"')\n",
    "        # Intentar convertir a JSON\n",
    "        return json.loads(cell)\n",
    "    except (json.JSONDecodeError, TypeError):\n",
    "        # Devolver None si falla la conversión\n",
    "        return None\n",
    "\n",
    "# Desanidamos la columna \"belongs_to_collection\"\n",
    "movies_df['belongs_to_collection'] = movies_df['belongs_to_collection'].apply(safe_json_load)\n",
    "\n",
    "# Extraemos las claves relevantes del diccionario (si existen)\n",
    "movies_df['collection_id'] = movies_df['belongs_to_collection'].apply(\n",
    "    lambda x: x['id'] if isinstance(x, dict) else None\n",
    ")\n",
    "movies_df['collection_name'] = movies_df['belongs_to_collection'].apply(\n",
    "    lambda x: x['name'] if isinstance(x, dict) else None\n",
    ")\n",
    "movies_df['collection_poster_path'] = movies_df['belongs_to_collection'].apply(\n",
    "    lambda x: x['poster_path'] if isinstance(x, dict) else None\n",
    ")\n",
    "movies_df['collection_backdrop_path'] = movies_df['belongs_to_collection'].apply(\n",
    "    lambda x: x['backdrop_path'] if isinstance(x, dict) else None\n",
    ")\n",
    "\n",
    "# Verificamos los primeros registros\n",
    "movies_df[['belongs_to_collection', 'collection_id', 'collection_name']].head()\n"
   ]
  },
  {
   "cell_type": "code",
   "execution_count": null,
   "metadata": {},
   "outputs": [],
   "source": [
    "# Verificar si hay valores nulos en la columna 'belongs_to_collection' y en las columnas desanidadas\n",
    "null_values = movies_df[['belongs_to_collection', 'collection_id', 'collection_name', 'collection_poster_path', 'collection_backdrop_path']].isnull().sum()\n",
    "\n",
    "# Verificar el tipo de datos de las nuevas columnas\n",
    "column_types = movies_df[['collection_id', 'collection_name', 'collection_poster_path', 'collection_backdrop_path']].dtypes\n",
    "\n",
    "# Verificar cuántas filas tienen 'None' en la columna 'belongs_to_collection'\n",
    "none_rows = movies_df[movies_df['belongs_to_collection'].isna()]\n",
    "\n",
    "# Mostrar resultados\n",
    "print(\"Valores nulos en las columnas:\")\n",
    "print(null_values)\n",
    "print(\"\\nTipos de datos de las nuevas columnas:\")\n",
    "print(column_types)\n",
    "print(\"\\nFilas con 'None' en 'belongs_to_collection':\")\n",
    "print(none_rows.head())  # Muestra solo las primeras filas con 'None'\n"
   ]
  },
  {
   "cell_type": "code",
   "execution_count": null,
   "metadata": {},
   "outputs": [],
   "source": [
    "# Reemplazamos NaN y None con un valor específico para indicar que no pertenece a una colección\n",
    "movies_df['collection_name'].fillna('No tiene colección', inplace=True)\n",
    "movies_df['collection_id'].fillna(-1, inplace=True)  # Usamos -1 para los ids sin colección\n",
    "movies_df['collection_poster_path'].fillna('No tiene poster', inplace=True)\n",
    "movies_df['collection_backdrop_path'].fillna('No tiene backdrop', inplace=True)\n",
    "\n",
    "# Verificamos los cambios\n",
    "movies_df[['collection_id', 'collection_name', 'collection_poster_path', 'collection_backdrop_path']].head()\n"
   ]
  },
  {
   "cell_type": "code",
   "execution_count": null,
   "metadata": {},
   "outputs": [],
   "source": [
    "# Filas problemáticas\n",
    "invalid_rows = movies_df[movies_df['belongs_to_collection'].isna()]\n",
    "print(f\"Filas con problemas de desanidado: {len(invalid_rows)}\")\n",
    "\n"
   ]
  },
  {
   "cell_type": "markdown",
   "metadata": {},
   "source": [
    "Eliminamos la columna \"belongs_to_collection\""
   ]
  },
  {
   "cell_type": "code",
   "execution_count": 363,
   "metadata": {},
   "outputs": [],
   "source": [
    "movies_df.drop(columns=['belongs_to_collection'], inplace=True)\n"
   ]
  },
  {
   "cell_type": "markdown",
   "metadata": {},
   "source": [
    "# Desanidamos la columna \"genres\"\n"
   ]
  },
  {
   "cell_type": "code",
   "execution_count": null,
   "metadata": {},
   "outputs": [],
   "source": [
    "import ast\n",
    "\n",
    "# Convertir las cadenas a listas de diccionarios\n",
    "movies_df['genres'] = movies_df['genres'].apply(lambda x: ast.literal_eval(x) if isinstance(x, str) else x)\n",
    "\n",
    "# Extraer los nombres de los géneros\n",
    "movies_df['genre_names'] = movies_df['genres'].apply(\n",
    "    lambda x: ', '.join([genre['name'] for genre in x]) if isinstance(x, list) else None\n",
    ")\n",
    "\n",
    "# Verifica las primeras filas\n",
    "movies_df[['genres', 'genre_names']].head()\n"
   ]
  },
  {
   "cell_type": "code",
   "execution_count": null,
   "metadata": {},
   "outputs": [],
   "source": [
    "# Filas con problemas de desanidado\n",
    "invalid_genres = movies_df[movies_df['genre_names'].isna()]\n",
    "print(f\"Filas con problemas en la columna 'genres': {len(invalid_genres)}\")\n"
   ]
  },
  {
   "cell_type": "markdown",
   "metadata": {},
   "source": [
    "Eliminamos la columna \"genres\""
   ]
  },
  {
   "cell_type": "code",
   "execution_count": 366,
   "metadata": {},
   "outputs": [],
   "source": [
    "movies_df.drop('genres', axis=1, inplace=True)\n"
   ]
  },
  {
   "cell_type": "markdown",
   "metadata": {},
   "source": [
    "# Desanidamos la columna \"production_companies \""
   ]
  },
  {
   "cell_type": "code",
   "execution_count": 367,
   "metadata": {},
   "outputs": [],
   "source": [
    "import json\n",
    "\n",
    "# Función para limpiar y cargar el JSON de forma segura\n",
    "def clean_and_load_json(x):\n",
    "    if isinstance(x, str):\n",
    "        # Reemplazar comillas simples por dobles\n",
    "        x = x.replace(\"'\", '\"')\n",
    "        try:\n",
    "            # Intentar cargar el JSON\n",
    "            return json.loads(x)\n",
    "        except json.JSONDecodeError:\n",
    "            # Si falla, devolver el valor original\n",
    "            return None\n",
    "    return x\n",
    "\n",
    "# Aplicar la limpieza y carga\n",
    "movies_df['production_companies'] = movies_df['production_companies'].apply(clean_and_load_json)\n",
    "\n",
    "# Extraer los nombres de las compañías de producción\n",
    "movies_df['production_companies_names'] = movies_df['production_companies'].apply(\n",
    "    lambda x: ', '.join([company['name'] for company in x]) if isinstance(x, list) else None\n",
    ")\n",
    "\n",
    "# Extraer los ids de las compañías de producción\n",
    "movies_df['production_companies_ids'] = movies_df['production_companies'].apply(\n",
    "    lambda x: ', '.join([str(company['id']) for company in x]) if isinstance(x, list) else None\n",
    ")\n",
    "\n",
    "# Verifica los primeros registros para confirmar que los cambios se hicieron correctamente\n",
    "movies_df[['production_companies', 'production_companies_names', 'production_companies_ids']].head()\n",
    "\n",
    "# Opcional: Eliminar la columna original 'production_companies' si ya no es necesaria\n",
    "movies_df.drop('production_companies', axis=1, inplace=True)\n",
    "\n",
    "\n"
   ]
  },
  {
   "cell_type": "code",
   "execution_count": null,
   "metadata": {},
   "outputs": [],
   "source": [
    "# Rellenar los valores None con 'Desconocido'\n",
    "movies_df['production_companies_names'].fillna('Desconocido', inplace=True)\n"
   ]
  },
  {
   "cell_type": "code",
   "execution_count": null,
   "metadata": {},
   "outputs": [],
   "source": [
    "# Verificar si hay filas con problemas de desanidado\n",
    "invalid_companies = movies_df[movies_df['production_companies_names'].isna()]\n",
    "print(f\"Filas con problemas en la columna 'production_companies': {len(invalid_companies)}\")\n"
   ]
  },
  {
   "cell_type": "markdown",
   "metadata": {},
   "source": [
    "Eliminamos la columna \"production_companies\""
   ]
  },
  {
   "cell_type": "code",
   "execution_count": 376,
   "metadata": {},
   "outputs": [],
   "source": [
    "movies_df.drop('production_companies', axis=1, inplace=True, errors='ignore')\n"
   ]
  },
  {
   "cell_type": "markdown",
   "metadata": {},
   "source": [
    "# Desanidamos la columna \"production_countries\""
   ]
  },
  {
   "cell_type": "code",
   "execution_count": null,
   "metadata": {},
   "outputs": [],
   "source": [
    "# Verificamos los primeros valores de la columna 'production_countries'\n",
    "movies_df['production_countries'].head()\n",
    "\n",
    "# Intentamos reemplazar las comillas simples por dobles y manejar excepciones\n",
    "def safe_json_load(x):\n",
    "    try:\n",
    "        # Reemplazamos comillas simples por dobles y tratamos de cargarlo como JSON\n",
    "        return json.loads(x.replace(\"'\", '\"')) if isinstance(x, str) else x\n",
    "    except json.JSONDecodeError:\n",
    "        # Si ocurre un error, devolvemos el valor original\n",
    "        return x\n",
    "\n",
    "# Aplicamos la función para manejar errores de formato\n",
    "movies_df['production_countries'] = movies_df['production_countries'].apply(safe_json_load)\n",
    "\n",
    "# Extraemos los nombres de los países\n",
    "movies_df['production_countries_names'] = movies_df['production_countries'].apply(\n",
    "    lambda x: ', '.join([country['name'] for country in x]) if isinstance(x, list) else None\n",
    ")\n",
    "\n",
    "# Extraemos los códigos de los países (iso_3166_1)\n",
    "movies_df['production_countries_codes'] = movies_df['production_countries'].apply(\n",
    "    lambda x: ', '.join([country['iso_3166_1'] for country in x]) if isinstance(x, list) else None\n",
    ")\n",
    "\n",
    "# Mostrar las nuevas columnas\n",
    "movies_df[['production_countries', 'production_countries_names', 'production_countries_codes']].head()\n"
   ]
  },
  {
   "cell_type": "markdown",
   "metadata": {},
   "source": [
    "Eliminamos la columna \"production_countries\""
   ]
  },
  {
   "cell_type": "code",
   "execution_count": 379,
   "metadata": {},
   "outputs": [],
   "source": [
    "movies_df.drop('production_countries', axis=1, inplace=True)\n"
   ]
  },
  {
   "cell_type": "code",
   "execution_count": null,
   "metadata": {},
   "outputs": [],
   "source": [
    "movies_df['production_countries_names'].fillna('Desconocido', inplace=True)\n",
    "movies_df['production_countries_codes'].fillna('Desconocido', inplace=True)\n"
   ]
  },
  {
   "cell_type": "code",
   "execution_count": null,
   "metadata": {},
   "outputs": [],
   "source": [
    "print(movies_df[['production_countries_names', 'production_countries_codes']].isna().sum())\n"
   ]
  },
  {
   "cell_type": "markdown",
   "metadata": {},
   "source": [
    "Desanidamos la columna \"spoken_languages\""
   ]
  },
  {
   "cell_type": "code",
   "execution_count": null,
   "metadata": {},
   "outputs": [],
   "source": [
    "import ast\n",
    "\n",
    "# Usamos ast.literal_eval para evitar problemas con caracteres especiales o comillas mal formateadas\n",
    "movies_df['spoken_languages'] = movies_df['spoken_languages'].apply(\n",
    "    lambda x: ast.literal_eval(x) if isinstance(x, str) else x\n",
    ")\n",
    "\n",
    "# Extraemos los nombres de los idiomas\n",
    "movies_df['spoken_languages_names'] = movies_df['spoken_languages'].apply(\n",
    "    lambda x: ', '.join([language['name'] for language in x]) if isinstance(x, list) else None\n",
    ")\n",
    "\n",
    "# Extraemos los códigos de los idiomas\n",
    "movies_df['spoken_languages_codes'] = movies_df['spoken_languages'].apply(\n",
    "    lambda x: ', '.join([language['iso_639_1'] for language in x]) if isinstance(x, list) else None\n",
    ")\n"
   ]
  },
  {
   "cell_type": "markdown",
   "metadata": {},
   "source": [
    "Eliminamos la columna \"spoken_languages\""
   ]
  },
  {
   "cell_type": "code",
   "execution_count": null,
   "metadata": {},
   "outputs": [],
   "source": [
    "movies_df.drop('spoken_languages', axis=1, inplace=True)\n"
   ]
  },
  {
   "cell_type": "code",
   "execution_count": null,
   "metadata": {},
   "outputs": [],
   "source": [
    "import pandas as pd\n",
    "\n",
    "# Establecer la opción para mostrar todas las columnas\n",
    "pd.set_option('display.max_columns', None)\n",
    "\n",
    "# Mostrar el DataFrame\n",
    "print(movies_df)\n"
   ]
  },
  {
   "cell_type": "code",
   "execution_count": null,
   "metadata": {},
   "outputs": [],
   "source": [
    "invalid_languages = movies_df[movies_df['spoken_languages_names'].isna()]\n",
    "print(invalid_languages[['spoken_languages_names', 'spoken_languages_codes']].head())\n"
   ]
  },
  {
   "cell_type": "code",
   "execution_count": null,
   "metadata": {},
   "outputs": [],
   "source": [
    "movies_df['spoken_languages_names'].fillna('Desconocido', inplace=True)\n",
    "movies_df['spoken_languages_codes'].fillna('Desconocido', inplace=True)\n"
   ]
  },
  {
   "cell_type": "code",
   "execution_count": null,
   "metadata": {},
   "outputs": [],
   "source": [
    "movies_df[['spoken_languages_names', 'spoken_languages_codes']].isna().sum()\n"
   ]
  },
  {
   "cell_type": "markdown",
   "metadata": {},
   "source": [
    "# Configuramos el Proyecto con FastAPI\n"
   ]
  },
  {
   "cell_type": "markdown",
   "metadata": {},
   "source": [
    "Instalación de dependencias\n"
   ]
  },
  {
   "cell_type": "code",
   "execution_count": null,
   "metadata": {},
   "outputs": [],
   "source": [
    "pip install fastapi uvicorn\n"
   ]
  },
  {
   "cell_type": "markdown",
   "metadata": {},
   "source": [
    "# Configuramos FastAPI"
   ]
  },
  {
   "cell_type": "code",
   "execution_count": 427,
   "metadata": {},
   "outputs": [],
   "source": [
    "from fastapi import FastAPI\n",
    "\n",
    "\n",
    "# Inicializar FastAPI\n",
    "app = FastAPI()"
   ]
  },
  {
   "cell_type": "markdown",
   "metadata": {},
   "source": [
    "# Endpoint para \"cantidad_filmaciones_mes\""
   ]
  },
  {
   "cell_type": "code",
   "execution_count": 428,
   "metadata": {},
   "outputs": [],
   "source": [
    "@app.get(\"/cantidad_filmaciones_mes/{mes}\")\n",
    "def cantidad_filmaciones_mes(mes: str):\n",
    "    # Mapa de meses en español a números\n",
    "    meses_espanol = {\n",
    "        \"enero\": 1, \"febrero\": 2, \"marzo\": 3, \"abril\": 4,\n",
    "        \"mayo\": 5, \"junio\": 6, \"julio\": 7, \"agosto\": 8,\n",
    "        \"septiembre\": 9, \"octubre\": 10, \"noviembre\": 11, \"diciembre\": 12\n",
    "    }\n",
    "    \n",
    "    mes_numero = meses_espanol.get(mes.lower(), None)\n",
    "    if mes_numero is None:\n",
    "        return {\"error\": \"Mes no válido\"}\n",
    "    \n",
    "    # Filtrar las películas que se estrenaron en el mes\n",
    "    peliculas_mes = movies_df[movies_df['release_date'].dt.month == mes_numero]\n",
    "    return {\"mensaje\": f\"{len(peliculas_mes)} cantidad de películas fueron estrenadas en el mes de {mes}\"}\n"
   ]
  },
  {
   "cell_type": "markdown",
   "metadata": {},
   "source": [
    "# Endpoint para \"cantidad_filmaciones_dia\"\n"
   ]
  },
  {
   "cell_type": "code",
   "execution_count": 429,
   "metadata": {},
   "outputs": [],
   "source": [
    "@app.get(\"/cantidad_filmaciones_dia/{dia}\")\n",
    "def cantidad_filmaciones_dia(dia: str):\n",
    "    # Mapa de días en español a números\n",
    "    dias_espanol = {\n",
    "        \"lunes\": 0, \"martes\": 1, \"miércoles\": 2, \"jueves\": 3,\n",
    "        \"viernes\": 4, \"sábado\": 5, \"domingo\": 6\n",
    "    }\n",
    "    \n",
    "    dia_numero = dias_espanol.get(dia.lower(), None)\n",
    "    if dia_numero is None:\n",
    "        return {\"error\": \"Día no válido\"}\n",
    "    \n",
    "    # Filtrar las películas que se estrenaron en el día de la semana\n",
    "    peliculas_dia = movies_df[movies_df['release_date'].dt.weekday == dia_numero]\n",
    "    return {\"mensaje\": f\"{len(peliculas_dia)} cantidad de películas fueron estrenadas en los días {dia}\"}\n"
   ]
  },
  {
   "cell_type": "markdown",
   "metadata": {},
   "source": [
    "# Endpoint para \"score_titulo\"\n"
   ]
  },
  {
   "cell_type": "code",
   "execution_count": 430,
   "metadata": {},
   "outputs": [],
   "source": [
    "@app.get(\"/score_titulo/{titulo_de_la_filmacion}\")\n",
    "def score_titulo(titulo_de_la_filmacion: str):\n",
    "    pelicula = movies_df[movies_df['title'].str.contains(titulo_de_la_filmacion, case=False, na=False)]\n",
    "    if pelicula.empty:\n",
    "        return {\"error\": \"Película no encontrada\"}\n",
    "    pelicula = pelicula.iloc[0]\n",
    "    return {\n",
    "        \"mensaje\": f\"La película {pelicula['title']} fue estrenada en el año {pelicula['release_year']} con un score/popularidad de {pelicula['popularity']}\"\n",
    "    }\n"
   ]
  }
 ],
 "metadata": {
  "kernelspec": {
   "display_name": "Python 3",
   "language": "python",
   "name": "python3"
  },
  "language_info": {
   "codemirror_mode": {
    "name": "ipython",
    "version": 3
   },
   "file_extension": ".py",
   "mimetype": "text/x-python",
   "name": "python",
   "nbconvert_exporter": "python",
   "pygments_lexer": "ipython3",
   "version": "3.12.5"
  }
 },
 "nbformat": 4,
 "nbformat_minor": 2
}
